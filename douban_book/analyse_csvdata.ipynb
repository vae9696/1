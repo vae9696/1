{
 "cells": [
  {
   "cell_type": "code",
   "execution_count": 11,
   "metadata": {},
   "outputs": [
    {
     "name": "stdout",
     "output_type": "stream",
     "text": [
      "豆瓣读书Top 250的价格和评分数据\n",
      "价格平均数: 53.92868---------------评分平均数: 9.066400000000002\n",
      "价格样本标准偏差: 136.8651830700738----------评分样本标准偏差: 0.24112987052174062\n",
      "价格中位数: 32.5---------------评分中位数: 9.1\n",
      "价格最大值: 2019.0---------------评分最大值: 9.7\n"
     ]
    }
   ],
   "source": [
    "import pandas as pd \n",
    "import jieba.analyse\n",
    "\n",
    "\n",
    "data = pd.read_csv(r'E:\\Anacondaa\\CodeDataSave\\douban-book\\csv-data\\Top250_book_data.csv')\n",
    "data[['price','score']] = data[['price','score']].astype('float64')\n",
    "data['date'] = data['date'].astype('string')\n",
    "#print(il.dtypes)\n",
    "#print(il)\n",
    "\n",
    "price_data = data['price']\n",
    "score_data = data['score']\n",
    "\n",
    "\n",
    "print(\"豆瓣读书Top 250的价格和评分数据\")\n",
    "print(\"价格平均数: {x}---------------评分平均数: {y}\".format(x = price_data.mean(), y = score_data.mean()))\n",
    "print(\"价格样本标准偏差: {x}----------评分样本标准偏差: {y}\".format(x = price_data.std(), y = score_data.std()))\n",
    "print(\"价格中位数: {x}---------------评分中位数: {y}\".format(x = price_data.median(), y = score_data.median()))\n",
    "print(\"价格最大值: {x}---------------评分最大值: {y}\".format(x = price_data.max(), y = score_data.max()))\n",
    "\n",
    "#print(type(il))"
   ]
  },
  {
   "cell_type": "code",
   "execution_count": 12,
   "metadata": {},
   "outputs": [
    {
     "name": "stdout",
     "output_type": "stream",
     "text": [
      "                  count      mean\n",
      "publishing-house                 \n",
      "人民文学出版社              39  9.084615\n",
      "上海译文出版社              22  9.036364\n",
      "生活·读书·新知三联书店         18  9.050000\n",
      "译林出版社                14  9.007143\n",
      "广西师范大学出版社            11  9.127273\n",
      "南海出版公司               11  8.945455\n",
      "北京十月文艺出版社             9  9.088889\n",
      "上海人民出版社               7  9.000000\n",
      "新星出版社                 5  9.100000\n",
      "北京联合出版公司              5  8.960000\n"
     ]
    }
   ],
   "source": [
    "#print(data['publishing-house'].value_counts()[:10])\n",
    "#指定.mean(numeric_only=True)您是否要保留舊行為。（似乎與 Pandas >= 2.0 有關）\n",
    "d1 = data.groupby('publishing-house').score.agg(['count','mean']).sort_values(by='count',ascending=False)[:10]\n",
    "\n",
    "\n",
    "#出版的书籍数量排名前10的出版社，按从多到少排序，并计算出其评分的平均数\n",
    "print(d1) \n"
   ]
  },
  {
   "cell_type": "code",
   "execution_count": 13,
   "metadata": {},
   "outputs": [
    {
     "name": "stdout",
     "output_type": "stream",
     "text": [
      "              count      mean\n",
      "author                       \n",
      "鲁迅                6  9.350000\n",
      "三毛                6  8.966667\n",
      "金庸                6  8.983333\n",
      "李娟                4  9.025000\n",
      "[日] 东野圭吾          4  8.825000\n",
      "[意] 埃莱娜·费兰特       4  9.000000\n",
      "王小波               4  8.975000\n",
      "[奥] 斯蒂芬·茨威格       3  9.066667\n",
      "[意] 伊塔洛·卡尔维诺      3  8.900000\n",
      "林达                3  8.933333\n"
     ]
    }
   ],
   "source": [
    "d2 = data.groupby('author').score.agg(['count','mean']).sort_values(by='count',ascending=False)[:10]\n",
    "\n",
    "\n",
    "#书籍数量排名前10的作者，按从多到少排序，并计算出其评分的平均数\n",
    "print(d2)"
   ]
  },
  {
   "cell_type": "code",
   "execution_count": 14,
   "metadata": {},
   "outputs": [
    {
     "name": "stdout",
     "output_type": "stream",
     "text": [
      "         score  book_name\n",
      "date                     \n",
      "2012  9.105882         17\n",
      "2006  9.118750         16\n",
      "2015  9.146667         15\n",
      "2007  9.000000         14\n",
      "2003  9.000000         13\n",
      "2008  9.091667         12\n",
      "2010  8.990909         11\n",
      "2013  9.118182         11\n",
      "2016  9.100000         10\n",
      "2005  8.900000         10\n"
     ]
    }
   ],
   "source": [
    "d3 = data.groupby(['date']).agg({'score':'mean','book_name':'count'}).sort_values(by='book_name',ascending=False)[:10]\n",
    "#书籍数量排名前10的年份依次为\n",
    "print(d3)"
   ]
  },
  {
   "cell_type": "code",
   "execution_count": 15,
   "metadata": {},
   "outputs": [
    {
     "name": "stdout",
     "output_type": "stream",
     "text": [
      "词语        权重\n",
      "0.: 情节 -- 1.0\n",
      "1.: 可能 -- 0.9828602530378064\n",
      "2.: 小说 -- 0.9300188207843488\n",
      "3.: 没有 -- 0.8432971672206513\n",
      "4.: 关键 -- 0.805814257631606\n",
      "5.: 透露 -- 0.7808454354502248\n",
      "6.: 时候 -- 0.7767020046970465\n",
      "7.: 书评 -- 0.6914796689767023\n",
      "8.: 作者 -- 0.6740050815920842\n",
      "9.: 作品 -- 0.6380767395438709\n"
     ]
    }
   ],
   "source": [
    "words =  \"\"\n",
    "for i in data['comment'].iloc[:250]:\n",
    "    words = words + str(i)\n",
    "result = jieba.analyse.textrank(words, topK=10,withWeight=True)\n",
    "#print(result)\n",
    "loop_n1 = 0\n",
    "\n",
    "#书籍引述关键词中出现次数最多的10个词语，按从多到少排序\n",
    "print(\"词语        权重\")\n",
    "for i in result:\n",
    "    print(\"{loop_n1}.: {keywords} -- {weight}\".format(loop_n1 = loop_n1, keywords = i[0], weight = i[1]))\n",
    "    loop_n1+=1\n"
   ]
  }
 ],
 "metadata": {
  "kernelspec": {
   "display_name": "base",
   "language": "python",
   "name": "python3"
  },
  "language_info": {
   "codemirror_mode": {
    "name": "ipython",
    "version": 3
   },
   "file_extension": ".py",
   "mimetype": "text/x-python",
   "name": "python",
   "nbconvert_exporter": "python",
   "pygments_lexer": "ipython3",
   "version": "3.11.7"
  }
 },
 "nbformat": 4,
 "nbformat_minor": 2
}
